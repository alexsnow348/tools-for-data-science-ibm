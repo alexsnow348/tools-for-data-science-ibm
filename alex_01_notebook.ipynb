{
    "cells": [
        {
            "metadata": {
                "collapsed": true
            },
            "cell_type": "markdown",
            "source": "## This is for the Assingment 1 \n\n**Wut Hmone Hnin Hlaing @ Alex Snow**\n\n**_Student_**"
        },
        {
            "metadata": {},
            "cell_type": "markdown",
            "source": "This is the first step for learning data science and love to continue the journey from now on."
        },
        {
            "metadata": {},
            "cell_type": "markdown",
            "source": "Sample looping in a array"
        },
        {
            "metadata": {
                "scrolled": false
            },
            "cell_type": "code",
            "source": "a = [\"alex\", \"snow\"]\nfor each in a:\n    print (each)",
            "execution_count": 3,
            "outputs": [
                {
                    "output_type": "stream",
                    "text": "alex\nsnow\n",
                    "name": "stdout"
                }
            ]
        },
        {
            "metadata": {},
            "cell_type": "markdown",
            "source": "###  Unorder List in Markdown"
        },
        {
            "metadata": {},
            "cell_type": "markdown",
            "source": "* apple\n* orange\n* banana\n* pineapple"
        }
    ],
    "metadata": {
        "kernelspec": {
            "name": "python3",
            "display_name": "Python 3.7",
            "language": "python"
        },
        "language_info": {
            "name": "python",
            "version": "3.7.10",
            "mimetype": "text/x-python",
            "codemirror_mode": {
                "name": "ipython",
                "version": 3
            },
            "pygments_lexer": "ipython3",
            "nbconvert_exporter": "python",
            "file_extension": ".py"
        }
    },
    "nbformat": 4,
    "nbformat_minor": 1
}